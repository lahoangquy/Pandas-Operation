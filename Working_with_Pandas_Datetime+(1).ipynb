{
  "nbformat": 4,
  "nbformat_minor": 0,
  "metadata": {
    "colab": {
      "name": "Working with Pandas Datetime.ipynb",
      "provenance": []
    },
    "kernelspec": {
      "name": "python3",
      "display_name": "Python 3"
    },
    "language_info": {
      "name": "python"
    }
  },
  "cells": [
    {
      "cell_type": "code",
      "metadata": {
        "id": "AGOiBkQy9bxL"
      },
      "source": [
        "import numpy as np\n",
        "import pandas as pd\n",
        "import datetime"
      ],
      "execution_count": 1,
      "outputs": []
    },
    {
      "cell_type": "markdown",
      "metadata": {
        "id": "bz0cuesI9uYR"
      },
      "source": [
        "**Basic Date time Operation**"
      ]
    },
    {
      "cell_type": "code",
      "metadata": {
        "colab": {
          "base_uri": "https://localhost:8080/"
        },
        "id": "IjXyTcR19xwV",
        "outputId": "76320a6c-1ace-4eef-a434-8dc0aa5469cb"
      },
      "source": [
        "# We will be parsing time series information from various sources and formats\n",
        "date_var = pd.to_datetime(['10/15/2019', np.datetime64('2019-10-15'), datetime.datetime(2019,10,15)])\n",
        "date_var"
      ],
      "execution_count": 2,
      "outputs": [
        {
          "output_type": "execute_result",
          "data": {
            "text/plain": [
              "DatetimeIndex(['2019-10-15', '2019-10-15', '2019-10-15'], dtype='datetime64[ns]', freq=None)"
            ]
          },
          "metadata": {
            "tags": []
          },
          "execution_count": 2
        }
      ]
    },
    {
      "cell_type": "code",
      "metadata": {
        "colab": {
          "base_uri": "https://localhost:8080/"
        },
        "id": "mwYOhMVQ-NzS",
        "outputId": "79984187-d6a0-456a-ee2d-9dca014d8c2d"
      },
      "source": [
        "# Generate sequences of fixed-frequency dates and time spans\n",
        "# Frequency is set to daily\n",
        "date_var = pd.date_range('2019-10-15', periods = 6, freq='D')\n",
        "date_var"
      ],
      "execution_count": 5,
      "outputs": [
        {
          "output_type": "execute_result",
          "data": {
            "text/plain": [
              "DatetimeIndex(['2019-10-15', '2019-10-16', '2019-10-17', '2019-10-18',\n",
              "               '2019-10-19', '2019-10-20'],\n",
              "              dtype='datetime64[ns]', freq='D')"
            ]
          },
          "metadata": {
            "tags": []
          },
          "execution_count": 5
        }
      ]
    },
    {
      "cell_type": "code",
      "metadata": {
        "colab": {
          "base_uri": "https://localhost:8080/"
        },
        "id": "aFlZJjBj-w3p",
        "outputId": "91298b68-00d4-42fe-e1c2-351f397d07bc"
      },
      "source": [
        "# Manipulating and converting date times with time zone information\n",
        "# UTC means Universal Time Coordinated world clock time\n",
        "date_var = date_var.tz_localize('UTC')\n",
        "date_var"
      ],
      "execution_count": 6,
      "outputs": [
        {
          "output_type": "execute_result",
          "data": {
            "text/plain": [
              "DatetimeIndex(['2019-10-15 00:00:00+00:00', '2019-10-16 00:00:00+00:00',\n",
              "               '2019-10-17 00:00:00+00:00', '2019-10-18 00:00:00+00:00',\n",
              "               '2019-10-19 00:00:00+00:00', '2019-10-20 00:00:00+00:00'],\n",
              "              dtype='datetime64[ns, UTC]', freq='D')"
            ]
          },
          "metadata": {
            "tags": []
          },
          "execution_count": 6
        }
      ]
    },
    {
      "cell_type": "code",
      "metadata": {
        "colab": {
          "base_uri": "https://localhost:8080/"
        },
        "id": "df_zlpsH_Hos",
        "outputId": "a987c9f1-1130-4c48-909d-3524ee0c2c19"
      },
      "source": [
        "# Convert to Eastern Time zone\n",
        "date_var.tz_convert('US/Eastern')"
      ],
      "execution_count": 7,
      "outputs": [
        {
          "output_type": "execute_result",
          "data": {
            "text/plain": [
              "DatetimeIndex(['2019-10-14 20:00:00-04:00', '2019-10-15 20:00:00-04:00',\n",
              "               '2019-10-16 20:00:00-04:00', '2019-10-17 20:00:00-04:00',\n",
              "               '2019-10-18 20:00:00-04:00', '2019-10-19 20:00:00-04:00'],\n",
              "              dtype='datetime64[ns, US/Eastern]', freq='D')"
            ]
          },
          "metadata": {
            "tags": []
          },
          "execution_count": 7
        }
      ]
    },
    {
      "cell_type": "code",
      "metadata": {
        "colab": {
          "base_uri": "https://localhost:8080/"
        },
        "id": "yQW297ve_WIh",
        "outputId": "86b96e58-58bb-4692-b1b4-96b147d0a542"
      },
      "source": [
        "# Resampling or converting a time series to a particular frequency\n",
        "idx = pd.date_range('2019-10-01', periods=7, freq = 'D') # Can change to 'S' for seconds or 'H' for hourly\n",
        "ts = pd.Series(range(len(idx)), index=idx)\n",
        "ts"
      ],
      "execution_count": 8,
      "outputs": [
        {
          "output_type": "execute_result",
          "data": {
            "text/plain": [
              "2019-10-01    0\n",
              "2019-10-02    1\n",
              "2019-10-03    2\n",
              "2019-10-04    3\n",
              "2019-10-05    4\n",
              "2019-10-06    5\n",
              "2019-10-07    6\n",
              "Freq: D, dtype: int64"
            ]
          },
          "metadata": {
            "tags": []
          },
          "execution_count": 8
        }
      ]
    },
    {
      "cell_type": "code",
      "metadata": {
        "colab": {
          "base_uri": "https://localhost:8080/"
        },
        "id": "gxJzMJzc_54o",
        "outputId": "68e41cb8-40c1-475f-86c3-5331a2c69ab4"
      },
      "source": [
        "idx = pd.date_range('2019-10-01', periods=10, freq = 'M') # Can change to 'S' for seconds or 'H' for hourly\n",
        "ts = pd.Series(range(len(idx)), index=idx)\n",
        "ts"
      ],
      "execution_count": 9,
      "outputs": [
        {
          "output_type": "execute_result",
          "data": {
            "text/plain": [
              "2019-10-31    0\n",
              "2019-11-30    1\n",
              "2019-12-31    2\n",
              "2020-01-31    3\n",
              "2020-02-29    4\n",
              "2020-03-31    5\n",
              "2020-04-30    6\n",
              "2020-05-31    7\n",
              "2020-06-30    8\n",
              "2020-07-31    9\n",
              "Freq: M, dtype: int64"
            ]
          },
          "metadata": {
            "tags": []
          },
          "execution_count": 9
        }
      ]
    },
    {
      "cell_type": "markdown",
      "metadata": {
        "id": "Aj2hcXysAGie"
      },
      "source": [
        "**Working with Timestamped data**"
      ]
    },
    {
      "cell_type": "code",
      "metadata": {
        "colab": {
          "base_uri": "https://localhost:8080/"
        },
        "id": "89gVoFAEAKIB",
        "outputId": "c8b67117-2412-4826-ab9e-53be9a4e5b37"
      },
      "source": [
        "# For pandas objects, time means using the points in time\n",
        "pd.Timestamp(datetime.datetime(2019, 7, 15))"
      ],
      "execution_count": 10,
      "outputs": [
        {
          "output_type": "execute_result",
          "data": {
            "text/plain": [
              "Timestamp('2019-07-15 00:00:00')"
            ]
          },
          "metadata": {
            "tags": []
          },
          "execution_count": 10
        }
      ]
    },
    {
      "cell_type": "code",
      "metadata": {
        "colab": {
          "base_uri": "https://localhost:8080/"
        },
        "id": "v2HxkGmsAYaS",
        "outputId": "b224d7ec-a2ce-4fa6-f743-44fbec457da8"
      },
      "source": [
        "# When you create a timestamp , notice that hours, minutes and seconds are included even when we did not specify\n",
        "pd.Timestamp('2021-08-08')"
      ],
      "execution_count": 11,
      "outputs": [
        {
          "output_type": "execute_result",
          "data": {
            "text/plain": [
              "Timestamp('2021-08-08 00:00:00')"
            ]
          },
          "metadata": {
            "tags": []
          },
          "execution_count": 11
        }
      ]
    },
    {
      "cell_type": "code",
      "metadata": {
        "colab": {
          "base_uri": "https://localhost:8080/"
        },
        "id": "P4v-E3-eAtbx",
        "outputId": "cfba1620-6d8c-4835-8063-8a0a94ed00c5"
      },
      "source": [
        "# Time in terms of a span or period.\n",
        "# The span represetned by Period can be specified explicitly or inferred from datetime string format\n",
        "pd.Period('2019-10')"
      ],
      "execution_count": 12,
      "outputs": [
        {
          "output_type": "execute_result",
          "data": {
            "text/plain": [
              "Period('2019-10', 'M')"
            ]
          },
          "metadata": {
            "tags": []
          },
          "execution_count": 12
        }
      ]
    },
    {
      "cell_type": "code",
      "metadata": {
        "colab": {
          "base_uri": "https://localhost:8080/"
        },
        "id": "1kNwN2ZVBBw2",
        "outputId": "e436abc9-7eb9-40a2-da2c-e98be009ffe9"
      },
      "source": [
        "pd.Period('2019-10', freq='D')"
      ],
      "execution_count": 13,
      "outputs": [
        {
          "output_type": "execute_result",
          "data": {
            "text/plain": [
              "Period('2019-10-01', 'D')"
            ]
          },
          "metadata": {
            "tags": []
          },
          "execution_count": 13
        }
      ]
    },
    {
      "cell_type": "code",
      "metadata": {
        "colab": {
          "base_uri": "https://localhost:8080/"
        },
        "id": "sAo4G9wMBGN5",
        "outputId": "56d13f8c-b600-424a-a406-0d671e6d952a"
      },
      "source": [
        "# Create a list of timestamps\n",
        "dates = [pd.Timestamp('2015-05-01'), pd.Timestamp('2015-05-02'), pd.Timestamp('2015-05-03')]\n",
        "dates"
      ],
      "execution_count": 14,
      "outputs": [
        {
          "output_type": "execute_result",
          "data": {
            "text/plain": [
              "[Timestamp('2015-05-01 00:00:00'),\n",
              " Timestamp('2015-05-02 00:00:00'),\n",
              " Timestamp('2015-05-03 00:00:00')]"
            ]
          },
          "metadata": {
            "tags": []
          },
          "execution_count": 14
        }
      ]
    },
    {
      "cell_type": "code",
      "metadata": {
        "colab": {
          "base_uri": "https://localhost:8080/"
        },
        "id": "a_2cYANsBWW7",
        "outputId": "56071b01-27b1-4921-9c12-b26cb593857a"
      },
      "source": [
        "# Create a pandas series that use the dates\n",
        "# Random numbers form standard normal distribution\n",
        "ts = pd.Series(np.random.randn(3), dates)\n",
        "ts"
      ],
      "execution_count": 15,
      "outputs": [
        {
          "output_type": "execute_result",
          "data": {
            "text/plain": [
              "2015-05-01    1.226000\n",
              "2015-05-02    1.890133\n",
              "2015-05-03    0.819088\n",
              "dtype: float64"
            ]
          },
          "metadata": {
            "tags": []
          },
          "execution_count": 15
        }
      ]
    },
    {
      "cell_type": "code",
      "metadata": {
        "colab": {
          "base_uri": "https://localhost:8080/"
        },
        "id": "KrL4OnbkBrV2",
        "outputId": "02a640de-d86d-46d3-e50f-c7e630bffdbe"
      },
      "source": [
        "# Verify type of index\n",
        "type(ts.index)"
      ],
      "execution_count": 16,
      "outputs": [
        {
          "output_type": "execute_result",
          "data": {
            "text/plain": [
              "pandas.core.indexes.datetimes.DatetimeIndex"
            ]
          },
          "metadata": {
            "tags": []
          },
          "execution_count": 16
        }
      ]
    },
    {
      "cell_type": "code",
      "metadata": {
        "id": "TRtiCswjByby"
      },
      "source": [
        "# Create periods that are monthly\n",
        "periods = [pd.Period('2017-07'),pd.Period('2017-08'), pd.Period('2017-09')]"
      ],
      "execution_count": 17,
      "outputs": []
    },
    {
      "cell_type": "code",
      "metadata": {
        "colab": {
          "base_uri": "https://localhost:8080/"
        },
        "id": "gE-5dfddCBf8",
        "outputId": "3d51b208-cbba-4fac-d90d-d3a15a3efce2"
      },
      "source": [
        "periods"
      ],
      "execution_count": 18,
      "outputs": [
        {
          "output_type": "execute_result",
          "data": {
            "text/plain": [
              "[Period('2017-07', 'M'), Period('2017-08', 'M'), Period('2017-09', 'M')]"
            ]
          },
          "metadata": {
            "tags": []
          },
          "execution_count": 18
        }
      ]
    },
    {
      "cell_type": "code",
      "metadata": {
        "id": "BhJE_VriCEDz"
      },
      "source": [
        "# Create a pandas series using the periods as index variable\n",
        "ts = pd.Series(np.random.randn(3), periods)"
      ],
      "execution_count": 19,
      "outputs": []
    },
    {
      "cell_type": "code",
      "metadata": {
        "colab": {
          "base_uri": "https://localhost:8080/"
        },
        "id": "g5zLpfOaCPYH",
        "outputId": "7bd449bd-8246-4117-ecbd-5b7ed376f300"
      },
      "source": [
        "ts"
      ],
      "execution_count": 20,
      "outputs": [
        {
          "output_type": "execute_result",
          "data": {
            "text/plain": [
              "2017-07    0.810130\n",
              "2017-08    1.069522\n",
              "2017-09    2.096661\n",
              "Freq: M, dtype: float64"
            ]
          },
          "metadata": {
            "tags": []
          },
          "execution_count": 20
        }
      ]
    },
    {
      "cell_type": "code",
      "metadata": {
        "colab": {
          "base_uri": "https://localhost:8080/"
        },
        "id": "WWjaZaYzCR4c",
        "outputId": "c5d40d72-0ba2-4414-fea0-bc254774a338"
      },
      "source": [
        "# Create a date range with 10 periods\n",
        "# Date is given as YYYYMMDD\n",
        "\n",
        "dates = pd.date_range('20191001',periods=10)\n",
        "dates"
      ],
      "execution_count": 21,
      "outputs": [
        {
          "output_type": "execute_result",
          "data": {
            "text/plain": [
              "DatetimeIndex(['2019-10-01', '2019-10-02', '2019-10-03', '2019-10-04',\n",
              "               '2019-10-05', '2019-10-06', '2019-10-07', '2019-10-08',\n",
              "               '2019-10-09', '2019-10-10'],\n",
              "              dtype='datetime64[ns]', freq='D')"
            ]
          },
          "metadata": {
            "tags": []
          },
          "execution_count": 21
        }
      ]
    },
    {
      "cell_type": "markdown",
      "metadata": {
        "id": "g3p_Lt4gCzq0"
      },
      "source": [
        "**Converting to Datetime**"
      ]
    },
    {
      "cell_type": "code",
      "metadata": {
        "colab": {
          "base_uri": "https://localhost:8080/"
        },
        "id": "Hc-b_MEjCzJ4",
        "outputId": "7f73963e-ec81-463e-8132-2f1d24bcfebc"
      },
      "source": [
        "# To convert a Series or list-like object of date-like objects e.g. strings, epoch or a mixture, \n",
        "# You can use the to_datetime function\n",
        "pd.to_datetime(pd.Series(['Jul 09, 2019', '2019-07-10', None]))"
      ],
      "execution_count": 22,
      "outputs": [
        {
          "output_type": "execute_result",
          "data": {
            "text/plain": [
              "0   2019-07-09\n",
              "1   2019-07-10\n",
              "2          NaT\n",
              "dtype: datetime64[ns]"
            ]
          },
          "metadata": {
            "tags": []
          },
          "execution_count": 22
        }
      ]
    },
    {
      "cell_type": "code",
      "metadata": {
        "colab": {
          "base_uri": "https://localhost:8080/"
        },
        "id": "qOKjuyGbDZBG",
        "outputId": "28ee4094-2fa1-4dd6-e743-8c9dbada0224"
      },
      "source": [
        "# Convert dates to datetime\n",
        "pd.to_datetime(['2005/12/25', '2005.12.31'])"
      ],
      "execution_count": 23,
      "outputs": [
        {
          "output_type": "execute_result",
          "data": {
            "text/plain": [
              "DatetimeIndex(['2005-12-25', '2005-12-31'], dtype='datetime64[ns]', freq=None)"
            ]
          },
          "metadata": {
            "tags": []
          },
          "execution_count": 23
        }
      ]
    },
    {
      "cell_type": "code",
      "metadata": {
        "colab": {
          "base_uri": "https://localhost:8080/"
        },
        "id": "w83wlpiaDlmA",
        "outputId": "01b76e47-c3b8-4661-eb9c-1ac72745084c"
      },
      "source": [
        "# If you use dates which start with the day first (i.e European style), you can pass the day first flag\n",
        "pd.to_datetime(['09-01-2019 10:00'], dayfirst=True)"
      ],
      "execution_count": 24,
      "outputs": [
        {
          "output_type": "execute_result",
          "data": {
            "text/plain": [
              "DatetimeIndex(['2019-01-09 10:00:00'], dtype='datetime64[ns]', freq=None)"
            ]
          },
          "metadata": {
            "tags": []
          },
          "execution_count": 24
        }
      ]
    },
    {
      "cell_type": "code",
      "metadata": {
        "colab": {
          "base_uri": "https://localhost:8080/"
        },
        "id": "E1zRgQyLD7kS",
        "outputId": "df7ab6d3-0b3c-4355-b441-9634820dc673"
      },
      "source": [
        "pd.to_datetime(['02-01-2017','01-03-2018'], dayfirst=True)"
      ],
      "execution_count": 25,
      "outputs": [
        {
          "output_type": "execute_result",
          "data": {
            "text/plain": [
              "DatetimeIndex(['2017-01-02', '2018-03-01'], dtype='datetime64[ns]', freq=None)"
            ]
          },
          "metadata": {
            "tags": []
          },
          "execution_count": 25
        }
      ]
    },
    {
      "cell_type": "code",
      "metadata": {
        "colab": {
          "base_uri": "https://localhost:8080/"
        },
        "id": "B1GFvlabEFMZ",
        "outputId": "04f1ef0a-f91c-4491-9f9c-174936abd499"
      },
      "source": [
        "# You pass a single string to to_datetime, it returns a single Timestamp, Timestamp can also accept string input,\n",
        "# but it does not accept string parsing options like dayfrist or format, so use to_datetime if these are required\n",
        "pd.to_datetime('2019/10/01')"
      ],
      "execution_count": 26,
      "outputs": [
        {
          "output_type": "execute_result",
          "data": {
            "text/plain": [
              "Timestamp('2019-10-01 00:00:00')"
            ]
          },
          "metadata": {
            "tags": []
          },
          "execution_count": 26
        }
      ]
    },
    {
      "cell_type": "code",
      "metadata": {
        "colab": {
          "base_uri": "https://localhost:8080/"
        },
        "id": "_x3kIB4VEgSo",
        "outputId": "bb3498fa-ced4-44a3-d95d-8e9bdd3abed0"
      },
      "source": [
        "# You can also use the DatetimeIndex constructor directly\n",
        "pd.DatetimeIndex(['2019-01-01','2019-01-03', '2019-01-05'])"
      ],
      "execution_count": 27,
      "outputs": [
        {
          "output_type": "execute_result",
          "data": {
            "text/plain": [
              "DatetimeIndex(['2019-01-01', '2019-01-03', '2019-01-05'], dtype='datetime64[ns]', freq=None)"
            ]
          },
          "metadata": {
            "tags": []
          },
          "execution_count": 27
        }
      ]
    },
    {
      "cell_type": "code",
      "metadata": {
        "colab": {
          "base_uri": "https://localhost:8080/"
        },
        "id": "0fxbiAnbEz_x",
        "outputId": "5513bfa8-ca10-47c8-e244-5131420c4da1"
      },
      "source": [
        "# The string 'infer' can be passed in order to set the frequency of the index as the inferred frequency upon creation\n",
        "pd.DatetimeIndex(['2014-01-17', '2014-01-18', '2014-01-19'], freq='infer')"
      ],
      "execution_count": 28,
      "outputs": [
        {
          "output_type": "execute_result",
          "data": {
            "text/plain": [
              "DatetimeIndex(['2014-01-17', '2014-01-18', '2014-01-19'], dtype='datetime64[ns]', freq='D')"
            ]
          },
          "metadata": {
            "tags": []
          },
          "execution_count": 28
        }
      ]
    },
    {
      "cell_type": "code",
      "metadata": {
        "colab": {
          "base_uri": "https://localhost:8080/"
        },
        "id": "zTxzlfn9FNoO",
        "outputId": "f16164a3-c7f4-4911-9cfc-417433c63179"
      },
      "source": [
        "# Providing a format argument\n",
        "pd.to_datetime('2019/10/11', format='%Y/%m/%d')"
      ],
      "execution_count": 30,
      "outputs": [
        {
          "output_type": "execute_result",
          "data": {
            "text/plain": [
              "Timestamp('2019-10-11 00:00:00')"
            ]
          },
          "metadata": {
            "tags": []
          },
          "execution_count": 30
        }
      ]
    },
    {
      "cell_type": "code",
      "metadata": {
        "colab": {
          "base_uri": "https://localhost:8080/"
        },
        "id": "gUzBThhPFwMr",
        "outputId": "67748a94-9670-4f08-ed54-607f5fd6833a"
      },
      "source": [
        "# You can also pass a DataFrame of integer or string columns to assemble into a Series of Timestamps\n",
        "df = pd.DataFrame({\n",
        "    'year':[2017,2018,2019],\n",
        "    'month': [3,4,5],\n",
        "    'day': [15,16,17],\n",
        "    'hour': [8,9,10]\n",
        "})\n",
        "\n",
        "pd.to_datetime(df)"
      ],
      "execution_count": 31,
      "outputs": [
        {
          "output_type": "execute_result",
          "data": {
            "text/plain": [
              "0   2017-03-15 08:00:00\n",
              "1   2018-04-16 09:00:00\n",
              "2   2019-05-17 10:00:00\n",
              "dtype: datetime64[ns]"
            ]
          },
          "metadata": {
            "tags": []
          },
          "execution_count": 31
        }
      ]
    },
    {
      "cell_type": "code",
      "metadata": {
        "colab": {
          "base_uri": "https://localhost:8080/"
        },
        "id": "fgUeqWFsGNog",
        "outputId": "11a5caae-79cd-48f2-9fdd-3a91c6447f62"
      },
      "source": [
        "# you can pass only the columns that you need\n",
        "pd.to_datetime(df[['year','month','day']])"
      ],
      "execution_count": 32,
      "outputs": [
        {
          "output_type": "execute_result",
          "data": {
            "text/plain": [
              "0   2017-03-15\n",
              "1   2018-04-16\n",
              "2   2019-05-17\n",
              "dtype: datetime64[ns]"
            ]
          },
          "metadata": {
            "tags": []
          },
          "execution_count": 32
        }
      ]
    },
    {
      "cell_type": "code",
      "metadata": {
        "colab": {
          "base_uri": "https://localhost:8080/"
        },
        "id": "rLLFBHgMGZ08",
        "outputId": "8c2c0544-5d58-484e-c926-df4e5bec9868"
      },
      "source": [
        "# We pull out hour data only\n",
        "df.hour"
      ],
      "execution_count": 33,
      "outputs": [
        {
          "output_type": "execute_result",
          "data": {
            "text/plain": [
              "0     8\n",
              "1     9\n",
              "2    10\n",
              "Name: hour, dtype: int64"
            ]
          },
          "metadata": {
            "tags": []
          },
          "execution_count": 33
        }
      ]
    },
    {
      "cell_type": "code",
      "metadata": {
        "colab": {
          "base_uri": "https://localhost:8080/"
        },
        "id": "-ElVDIDGGerx",
        "outputId": "f9978f25-774f-4a6e-cf3a-311e16175fa5"
      },
      "source": [
        "df.month"
      ],
      "execution_count": 34,
      "outputs": [
        {
          "output_type": "execute_result",
          "data": {
            "text/plain": [
              "0    3\n",
              "1    4\n",
              "2    5\n",
              "Name: month, dtype: int64"
            ]
          },
          "metadata": {
            "tags": []
          },
          "execution_count": 34
        }
      ]
    },
    {
      "cell_type": "code",
      "metadata": {
        "colab": {
          "base_uri": "https://localhost:8080/"
        },
        "id": "tPD6yesVGhQO",
        "outputId": "2829c53a-8505-4a27-fcaa-65bae5ee36cf"
      },
      "source": [
        "df.year"
      ],
      "execution_count": 35,
      "outputs": [
        {
          "output_type": "execute_result",
          "data": {
            "text/plain": [
              "0    2017\n",
              "1    2018\n",
              "2    2019\n",
              "Name: year, dtype: int64"
            ]
          },
          "metadata": {
            "tags": []
          },
          "execution_count": 35
        }
      ]
    },
    {
      "cell_type": "code",
      "metadata": {
        "colab": {
          "base_uri": "https://localhost:8080/"
        },
        "id": "EwgPR-REGi47",
        "outputId": "45295cdf-f0ce-45c1-bd2d-489441ba9d68"
      },
      "source": [
        "df.day\n"
      ],
      "execution_count": 38,
      "outputs": [
        {
          "output_type": "execute_result",
          "data": {
            "text/plain": [
              "0    15\n",
              "1    16\n",
              "2    17\n",
              "Name: day, dtype: int64"
            ]
          },
          "metadata": {
            "tags": []
          },
          "execution_count": 38
        }
      ]
    }
  ]
}